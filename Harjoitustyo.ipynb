{
 "cells": [
  {
   "cell_type": "markdown",
   "metadata": {},
   "source": [
    "# JODA 2021 Harjoitustyö - Simo Uusijoki"
   ]
  },
  {
   "cell_type": "markdown",
   "metadata": {},
   "source": [
    "## Alkuvalmistelut (Kehitysympäristön valinta)\n",
    "\n",
    "Kehtiysympäristöksi valikoitui Anaconda Navigator ja työkirjaksi tämän kautta luotu Jupyter Notebook - tiedosto. Tuodaan vaadittavat python -kirjastot osaksi työkirjaa.  "
   ]
  },
  {
   "cell_type": "code",
   "execution_count": 4,
   "metadata": {},
   "outputs": [],
   "source": [
    "import pandas as pd"
   ]
  },
  {
   "cell_type": "markdown",
   "metadata": {},
   "source": [
    "## Datan kerääminen"
   ]
  },
  {
   "cell_type": "markdown",
   "metadata": {},
   "source": [
    "Dataksi valikoitui Inside Airbnbn data Milanosta. Alla data haettuna. "
   ]
  },
  {
   "cell_type": "code",
   "execution_count": 27,
   "metadata": {},
   "outputs": [
    {
     "name": "stdout",
     "output_type": "stream",
     "text": [
      "      id                         listing_url       scrape_id last_scraped  \\\n",
      "0   6400   https://www.airbnb.com/rooms/6400  20210217171707   2021-02-19   \n",
      "1  17232  https://www.airbnb.com/rooms/17232  20210217171707   2021-02-19   \n",
      "2  18429  https://www.airbnb.com/rooms/18429  20210217171707   2021-02-19   \n",
      "3  23986  https://www.airbnb.com/rooms/23986  20210217171707   2021-02-19   \n",
      "4  32119  https://www.airbnb.com/rooms/32119  20210217171707   2021-02-20   \n",
      "\n",
      "                                 name  \\\n",
      "0                    The Studio Milan   \n",
      "1         MPX-Center-EXPO Value/Money   \n",
      "2    Best Opportunity MPX-EXPO-CENTER   \n",
      "3     \" Characteristic Milanese flat\"   \n",
      "4  Nico & Cynthia's Easy Yellow Suite   \n",
      "\n",
      "                                         description  \\\n",
      "0  Enjoy your stay at The Studio, a light-filled ...   \n",
      "1  convenient , easy, cozy<br />best english and ...   \n",
      "2  whole apartment<br />cosy<br />convenient<br /...   \n",
      "3  I look forward to welcoming you in my flat; it...   \n",
      "4  <b>The space</b><br />Do you visit Milan for s...   \n",
      "\n",
      "                               neighborhood_overview  \\\n",
      "0  The neighborhood is quiet and very well connec...   \n",
      "1  quite, university (politecnic and chinese univ...   \n",
      "2                                                NaN   \n",
      "3                                                NaN   \n",
      "4                                                NaN   \n",
      "\n",
      "                                         picture_url  host_id  \\\n",
      "0  https://a0.muscache.com/pictures/474737/5955ba...    13822   \n",
      "1  https://a0.muscache.com/pictures/2380081/048cd...    66856   \n",
      "2  https://a0.muscache.com/pictures/122432/cdc185...    66856   \n",
      "3  https://a0.muscache.com/pictures/623d63f8-56cf...    95941   \n",
      "4  https://a0.muscache.com/pictures/31c7781c-638a...   138683   \n",
      "\n",
      "                                   host_url  ... review_scores_communication  \\\n",
      "0   https://www.airbnb.com/users/show/13822  ...                        10.0   \n",
      "1   https://www.airbnb.com/users/show/66856  ...                         9.0   \n",
      "2   https://www.airbnb.com/users/show/66856  ...                        10.0   \n",
      "3   https://www.airbnb.com/users/show/95941  ...                         9.0   \n",
      "4  https://www.airbnb.com/users/show/138683  ...                        10.0   \n",
      "\n",
      "  review_scores_location review_scores_value license instant_bookable  \\\n",
      "0                    9.0                 9.0     NaN                f   \n",
      "1                    9.0                 9.0     NaN                f   \n",
      "2                   10.0                 8.0     NaN                f   \n",
      "3                    9.0                 9.0     NaN                f   \n",
      "4                    9.0                10.0     NaN                f   \n",
      "\n",
      "  calculated_host_listings_count calculated_host_listings_count_entire_homes  \\\n",
      "0                              1                                           0   \n",
      "1                              2                                           1   \n",
      "2                              2                                           1   \n",
      "3                              1                                           1   \n",
      "4                              4                                           4   \n",
      "\n",
      "  calculated_host_listings_count_private_rooms  \\\n",
      "0                                            1   \n",
      "1                                            0   \n",
      "2                                            0   \n",
      "3                                            0   \n",
      "4                                            0   \n",
      "\n",
      "  calculated_host_listings_count_shared_rooms reviews_per_month  \n",
      "0                                           0              0.09  \n",
      "1                                           1              0.42  \n",
      "2                                           1              0.03  \n",
      "3                                           0              0.14  \n",
      "4                                           0              0.12  \n",
      "\n",
      "[5 rows x 74 columns]\n",
      "['id', 'listing_url', 'scrape_id', 'last_scraped', 'name', 'description', 'neighborhood_overview', 'picture_url', 'host_id', 'host_url', 'host_name', 'host_since', 'host_location', 'host_about', 'host_response_time', 'host_response_rate', 'host_acceptance_rate', 'host_is_superhost', 'host_thumbnail_url', 'host_picture_url', 'host_neighbourhood', 'host_listings_count', 'host_total_listings_count', 'host_verifications', 'host_has_profile_pic', 'host_identity_verified', 'neighbourhood', 'neighbourhood_cleansed', 'neighbourhood_group_cleansed', 'latitude', 'longitude', 'property_type', 'room_type', 'accommodates', 'bathrooms', 'bathrooms_text', 'bedrooms', 'beds', 'amenities', 'price', 'minimum_nights', 'maximum_nights', 'minimum_minimum_nights', 'maximum_minimum_nights', 'minimum_maximum_nights', 'maximum_maximum_nights', 'minimum_nights_avg_ntm', 'maximum_nights_avg_ntm', 'calendar_updated', 'has_availability', 'availability_30', 'availability_60', 'availability_90', 'availability_365', 'calendar_last_scraped', 'number_of_reviews', 'number_of_reviews_ltm', 'number_of_reviews_l30d', 'first_review', 'last_review', 'review_scores_rating', 'review_scores_accuracy', 'review_scores_cleanliness', 'review_scores_checkin', 'review_scores_communication', 'review_scores_location', 'review_scores_value', 'license', 'instant_bookable', 'calculated_host_listings_count', 'calculated_host_listings_count_entire_homes', 'calculated_host_listings_count_private_rooms', 'calculated_host_listings_count_shared_rooms', 'reviews_per_month']\n",
      "      id                         listing_url       scrape_id last_scraped  \\\n",
      "0   6400   https://www.airbnb.com/rooms/6400  20190207212002   2019-02-07   \n",
      "1  23986  https://www.airbnb.com/rooms/23986  20190207212002   2019-02-08   \n",
      "2  28300  https://www.airbnb.com/rooms/28300  20190207212002   2019-02-07   \n",
      "3  32119  https://www.airbnb.com/rooms/32119  20190207212002   2019-02-08   \n",
      "4  32649  https://www.airbnb.com/rooms/32649  20190207212002   2019-02-08   \n",
      "\n",
      "                                 name  \\\n",
      "0                    The Studio Milan   \n",
      "1     \" Characteristic Milanese flat\"   \n",
      "2             nice flat near the park   \n",
      "3  Nico & Cynthia's Easy Yellow Suite   \n",
      "4       Nico&Cinzia's Red Easy Suite!   \n",
      "\n",
      "                                             summary  \\\n",
      "0  Enjoy your stay at The Studio, a light-filled ...   \n",
      "1  I look forward to welcoming you in my flat; it...   \n",
      "2  Bella camera in appartamento col terrazzo all'...   \n",
      "3                                                NaN   \n",
      "4  1) Russian people will have 10% discount on si...   \n",
      "\n",
      "                                               space  \\\n",
      "0  The two floors apartment guarantee privacy to ...   \n",
      "1  In Milano : A comfortable and very quiet typic...   \n",
      "2  I rent one room in Milan for short stays . Bre...   \n",
      "3  Do you visit Milan for short periods (training...   \n",
      "4   Do you visit Milan for short periods (trainin...   \n",
      "\n",
      "                                         description experiences_offered  \\\n",
      "0  Enjoy your stay at The Studio, a light-filled ...                none   \n",
      "1  I look forward to welcoming you in my flat; it...                none   \n",
      "2  I rent one room in Milan for short stays . Bre...                none   \n",
      "3  Do you visit Milan for short periods (training...                none   \n",
      "4  1) Russian people will have 10% discount on si...                none   \n",
      "\n",
      "                               neighborhood_overview  ... instant_bookable  \\\n",
      "0  The neighborhood is quiet and very well connec...  ...                f   \n",
      "1                                                NaN  ...                f   \n",
      "2  la zona è piena di piccoli ristorantini e loca...  ...                f   \n",
      "3                                                NaN  ...                f   \n",
      "4  Flat  It's located in north side of milan, jus...  ...                f   \n",
      "\n",
      "  is_business_travel_ready cancellation_policy require_guest_profile_picture  \\\n",
      "0                        f        flexible_new                             f   \n",
      "1                        f          strict_new                             f   \n",
      "2                        f        flexible_new                             f   \n",
      "3                        f        moderate_new                             f   \n",
      "4                        f        moderate_new                             f   \n",
      "\n",
      "  require_guest_phone_verification  calculated_host_listings_count  \\\n",
      "0                                f                               1   \n",
      "1                                f                               1   \n",
      "2                                f                               1   \n",
      "3                                f                               5   \n",
      "4                                f                               5   \n",
      "\n",
      "   calculated_host_listings_count_entire_homes  \\\n",
      "0                                            0   \n",
      "1                                            1   \n",
      "2                                            0   \n",
      "3                                            5   \n",
      "4                                            5   \n",
      "\n",
      "  calculated_host_listings_count_private_rooms  \\\n",
      "0                                            1   \n",
      "1                                            0   \n",
      "2                                            1   \n",
      "3                                            0   \n",
      "4                                            0   \n",
      "\n",
      "   calculated_host_listings_count_shared_rooms  reviews_per_month  \n",
      "0                                            0               0.10  \n",
      "1                                            0               0.15  \n",
      "2                                            0               0.10  \n",
      "3                                            0               0.14  \n",
      "4                                            0               0.27  \n",
      "\n",
      "[5 rows x 106 columns]\n",
      "['id', 'listing_url', 'scrape_id', 'last_scraped', 'name', 'summary', 'space', 'description', 'experiences_offered', 'neighborhood_overview', 'notes', 'transit', 'access', 'interaction', 'house_rules', 'thumbnail_url', 'medium_url', 'picture_url', 'xl_picture_url', 'host_id', 'host_url', 'host_name', 'host_since', 'host_location', 'host_about', 'host_response_time', 'host_response_rate', 'host_acceptance_rate', 'host_is_superhost', 'host_thumbnail_url', 'host_picture_url', 'host_neighbourhood', 'host_listings_count', 'host_total_listings_count', 'host_verifications', 'host_has_profile_pic', 'host_identity_verified', 'street', 'neighbourhood', 'neighbourhood_cleansed', 'neighbourhood_group_cleansed', 'city', 'state', 'zipcode', 'market', 'smart_location', 'country_code', 'country', 'latitude', 'longitude', 'is_location_exact', 'property_type', 'room_type', 'accommodates', 'bathrooms', 'bedrooms', 'beds', 'bed_type', 'amenities', 'square_feet', 'price', 'weekly_price', 'monthly_price', 'security_deposit', 'cleaning_fee', 'guests_included', 'extra_people', 'minimum_nights', 'maximum_nights', 'minimum_minimum_nights', 'maximum_minimum_nights', 'minimum_maximum_nights', 'maximum_maximum_nights', 'minimum_nights_avg_ntm', 'maximum_nights_avg_ntm', 'calendar_updated', 'has_availability', 'availability_30', 'availability_60', 'availability_90', 'availability_365', 'calendar_last_scraped', 'number_of_reviews', 'number_of_reviews_ltm', 'first_review', 'last_review', 'review_scores_rating', 'review_scores_accuracy', 'review_scores_cleanliness', 'review_scores_checkin', 'review_scores_communication', 'review_scores_location', 'review_scores_value', 'requires_license', 'license', 'jurisdiction_names', 'instant_bookable', 'is_business_travel_ready', 'cancellation_policy', 'require_guest_profile_picture', 'require_guest_phone_verification', 'calculated_host_listings_count', 'calculated_host_listings_count_entire_homes', 'calculated_host_listings_count_private_rooms', 'calculated_host_listings_count_shared_rooms', 'reviews_per_month']\n"
     ]
    },
    {
     "name": "stderr",
     "output_type": "stream",
     "text": [
      "C:\\Users\\simo.uusijoki\\Anaconda3\\lib\\site-packages\\IPython\\core\\interactiveshell.py:3146: DtypeWarning: Columns (43,61,62) have mixed types.Specify dtype option on import or set low_memory=False.\n",
      "  has_raised = await self.run_ast_nodes(code_ast.body, cell_name,\n"
     ]
    }
   ],
   "source": [
    "import numpy as np\n",
    "import matplotlib as plt\n",
    "from sklearn import ensemble\n",
    "from sklearn import linear_model\n",
    "from sklearn.model_selection import GridSearchCV\n",
    "from sklearn import preprocessing\n",
    "from sklearn.model_selection import train_test_split\n",
    "import sklearn.metrics as metrics\n",
    "import matplotlib.pyplot as plt\n",
    "from collections import Counter\n",
    "\n",
    "# Reading our dataset into a dataframe\n",
    "\n",
    "URL2021= 'http://data.insideairbnb.com/italy/lombardy/milan/2021-02-17/data/listings.csv.gz'\n",
    "df2021= pd.read_csv(URL2021, compression='gzip')\n",
    "\n",
    "URL2019= 'http://data.insideairbnb.com/italy/lombardy/milan/2019-02-07/data/listings.csv.gz'\n",
    "df2019= pd.read_csv(URL2019, compression='gzip')\n",
    "\n",
    "# Check data, print columns\n",
    "       \n",
    "print(df2021.head())\n",
    "print(df2021.columns.tolist())\n",
    "\n",
    "print(df2019.head())\n",
    "print(df2019.columns.tolist())\n",
    "\n"
   ]
  },
  {
   "cell_type": "code",
   "execution_count": 31,
   "metadata": {},
   "outputs": [
    {
     "data": {
      "text/plain": [
       "18367"
      ]
     },
     "execution_count": 31,
     "metadata": {},
     "output_type": "execute_result"
    }
   ],
   "source": [
    "# Check data quantity 2021\n",
    "len (df2021.index)\n"
   ]
  },
  {
   "cell_type": "code",
   "execution_count": 32,
   "metadata": {},
   "outputs": [
    {
     "data": {
      "text/plain": [
       "17823"
      ]
     },
     "execution_count": 32,
     "metadata": {},
     "output_type": "execute_result"
    }
   ],
   "source": [
    "# Check data quantity 2019\n",
    "len (df2019.index)"
   ]
  },
  {
   "cell_type": "code",
   "execution_count": 57,
   "metadata": {},
   "outputs": [
    {
     "name": "stdout",
     "output_type": "stream",
     "text": [
      "['id', 'host_response_rate', 'host_acceptance_rate', 'host_is_superhost', 'neighbourhood_cleansed', 'room_type', 'accommodates', 'bathrooms', 'bedrooms', 'beds', 'price', 'has_availability', 'availability_30', 'availability_60', 'number_of_reviews', 'review_scores_rating']\n",
      "['id', 'host_response_rate', 'host_acceptance_rate', 'host_is_superhost', 'neighbourhood_cleansed', 'room_type', 'accommodates', 'bathrooms', 'bedrooms', 'beds', 'price', 'has_availability', 'availability_30', 'availability_60', 'number_of_reviews', 'review_scores_rating']\n"
     ]
    }
   ],
   "source": [
    "# Select columns want to be kept\n",
    "\n",
    "cols = ['id',\n",
    "    'host_response_rate',\n",
    "'host_acceptance_rate',\n",
    "'host_is_superhost',\n",
    "'neighbourhood_cleansed',\n",
    "'room_type',\n",
    "'accommodates',\n",
    "'bathrooms',\n",
    "'bedrooms',\n",
    "'beds',\n",
    "'price',\n",
    "'has_availability',\n",
    "'availability_30',\n",
    "'availability_60',\n",
    "'number_of_reviews',\n",
    "'review_scores_rating',\n",
    "]\n",
    "\n",
    "\n",
    "# read the file and make data frames to have only columns selected above\n",
    "\n",
    "df2021 = pd.read_csv(URL2021, usecols=cols, compression='gzip')\n",
    "df2019 = pd.read_csv(URL2019, usecols=cols, compression='gzip')\n",
    "\n",
    "# Let's check if we have only wanted columns included\n",
    "\n",
    "print(df2021.columns.tolist())\n",
    "print(df2019.columns.tolist())\n"
   ]
  },
  {
   "cell_type": "markdown",
   "metadata": {},
   "source": [
    "## Datan jalostaminen\n",
    "Tässä osiossa jalostetaan yllä hankittua Milanon Airbnb-dataa vuosilta 2019 (ennen koronaa) ja 2021 (koronan aikana). Tässä osiossa yhdistän nuo kaksi datasettiä (molemmissa jo aiemmin samat sarakkeet) ja tutkin mitä arvoja valitut sarakkeet saavat. Sarakkeiden tietojen perusteella teen siivousta ja teen piirteiden tunnistamista."
   ]
  },
  {
   "cell_type": "code",
   "execution_count": 54,
   "metadata": {},
   "outputs": [],
   "source": [
    "# Adding column \"Year\" to both datasets with corresponding year values\n",
    "\n",
    "df2021 ['Year'] = 2021\n",
    "df2019 ['Year'] = 2019"
   ]
  },
  {
   "cell_type": "code",
   "execution_count": 58,
   "metadata": {},
   "outputs": [
    {
     "name": "stdout",
     "output_type": "stream",
     "text": [
      "['id', 'host_response_rate', 'host_acceptance_rate', 'host_is_superhost', 'neighbourhood_cleansed', 'room_type', 'accommodates', 'bathrooms', 'bedrooms', 'beds', 'price', 'has_availability', 'availability_30', 'availability_60', 'number_of_reviews', 'review_scores_rating']\n",
      "['id', 'host_response_rate', 'host_acceptance_rate', 'host_is_superhost', 'neighbourhood_cleansed', 'room_type', 'accommodates', 'bathrooms', 'bedrooms', 'beds', 'price', 'has_availability', 'availability_30', 'availability_60', 'number_of_reviews', 'review_scores_rating']\n"
     ]
    }
   ],
   "source": [
    "# Let's check our columns now to see if we have new column there\n",
    "\n",
    "print(df2021.columns.tolist())\n",
    "print(df2019.columns.tolist())"
   ]
  },
  {
   "cell_type": "code",
   "execution_count": 59,
   "metadata": {},
   "outputs": [
    {
     "name": "stdout",
     "output_type": "stream",
     "text": [
      "      id host_response_rate host_acceptance_rate host_is_superhost  \\\n",
      "0   6400                NaN                   0%                 f   \n",
      "1  17232                NaN                   0%                 f   \n",
      "2  18429                NaN                   0%                 f   \n",
      "3  23986                NaN                 100%                 f   \n",
      "4  32119               100%                  75%                 f   \n",
      "\n",
      "  neighbourhood_cleansed        room_type  accommodates  bathrooms  bedrooms  \\\n",
      "0                TIBALDI     Private room             1        NaN       3.0   \n",
      "1                 BOVISA      Shared room             2        NaN       1.0   \n",
      "2                 BOVISA  Entire home/apt             4        NaN       2.0   \n",
      "3                NAVIGLI  Entire home/apt             4        NaN       1.0   \n",
      "4            VIALE MONZA  Entire home/apt             4        NaN       1.0   \n",
      "\n",
      "   beds    price has_availability  availability_30  availability_60  \\\n",
      "0   1.0  $100.00                t               23               53   \n",
      "1   2.0   $24.00                t               29               59   \n",
      "2   2.0  $150.00                t               27               57   \n",
      "3   1.0  $150.00                t               28               58   \n",
      "4   4.0   $75.00                t                0                0   \n",
      "\n",
      "   number_of_reviews  review_scores_rating  \n",
      "0                 12                  98.0  \n",
      "1                 55                  89.0  \n",
      "2                  1                  80.0  \n",
      "3                 15                  93.0  \n",
      "4                 15                  97.0  \n",
      "      id host_response_rate  host_acceptance_rate host_is_superhost  \\\n",
      "0   6400               100%                   NaN                 f   \n",
      "1  23986               100%                   NaN                 f   \n",
      "2  28300                NaN                   NaN                 f   \n",
      "3  32119               100%                   NaN                 f   \n",
      "4  32649               100%                   NaN                 f   \n",
      "\n",
      "  neighbourhood_cleansed        room_type  accommodates  bathrooms  bedrooms  \\\n",
      "0                TIBALDI     Private room             1        3.5       3.0   \n",
      "1                NAVIGLI  Entire home/apt             4        1.0       1.0   \n",
      "2                  SARPI     Private room             2        1.5       1.0   \n",
      "3            VIALE MONZA  Entire home/apt             4        1.0       1.0   \n",
      "4            VIALE MONZA  Entire home/apt             4        1.0       1.0   \n",
      "\n",
      "   beds    price has_availability  availability_30  availability_60  \\\n",
      "0   1.0  $100.00                t               23               51   \n",
      "1   2.0  $150.00                t               28               57   \n",
      "2   2.0  $200.00                t               30               60   \n",
      "3   4.0   $70.00                t                0                0   \n",
      "4   3.0   $70.00                t                2               16   \n",
      "\n",
      "   number_of_reviews  review_scores_rating  \n",
      "0                 11                  98.0  \n",
      "1                 12                  91.0  \n",
      "2                  8                  94.0  \n",
      "3                 15                  97.0  \n",
      "4                 28                  96.0  \n"
     ]
    }
   ],
   "source": [
    "# Let's check what kind of values we have within our just created columns\n",
    "\n",
    "print(df2021.head())\n",
    "print(df2019.head())"
   ]
  },
  {
   "cell_type": "code",
   "execution_count": null,
   "metadata": {},
   "outputs": [],
   "source": [
    "concat()"
   ]
  }
 ],
 "metadata": {
  "kernelspec": {
   "display_name": "Python 3",
   "language": "python",
   "name": "python3"
  },
  "language_info": {
   "codemirror_mode": {
    "name": "ipython",
    "version": 3
   },
   "file_extension": ".py",
   "mimetype": "text/x-python",
   "name": "python",
   "nbconvert_exporter": "python",
   "pygments_lexer": "ipython3",
   "version": "3.8.5"
  }
 },
 "nbformat": 4,
 "nbformat_minor": 4
}
